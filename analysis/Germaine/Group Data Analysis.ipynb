{
 "cells": [
  {
   "cell_type": "markdown",
   "metadata": {},
   "source": [
    "# Task 5: Group Data Analysis\n",
    "--- \n",
    "In this notebook, we will be answering our research questions as a group with an in depth analysis.\n",
    "\n",
    "Some of our research questions were already approached within our individual EDA's, for example, if smokers typically have higher charges on average (they did), or if certain regions paid more on average (southeast paid marginally more than the other groups) Some other questions remain un answered, and that's what we are going to focus on for this group data analysis.\n",
    "\n",
    "The first two research questions we would like to answer are: \n",
    "- Is there any correlation between age and charges? Our group predict\n"
   ]
  },
  {
   "cell_type": "code",
   "execution_count": null,
   "metadata": {},
   "outputs": [],
   "source": []
  }
 ],
 "metadata": {
  "kernelspec": {
   "display_name": "Python 3",
   "language": "python",
   "name": "python3"
  },
  "language_info": {
   "codemirror_mode": {
    "name": "ipython",
    "version": 3
   },
   "file_extension": ".py",
   "mimetype": "text/x-python",
   "name": "python",
   "nbconvert_exporter": "python",
   "pygments_lexer": "ipython3",
   "version": "3.7.4"
  }
 },
 "nbformat": 4,
 "nbformat_minor": 2
}
