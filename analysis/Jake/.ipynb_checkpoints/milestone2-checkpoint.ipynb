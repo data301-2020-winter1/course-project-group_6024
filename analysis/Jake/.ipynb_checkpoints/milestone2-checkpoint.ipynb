{
 "cells": [
  {
   "cell_type": "markdown",
   "metadata": {},
   "source": [
    "# Milestone 2 - Jake data analysis\n",
    "---\n",
    "I will start my analysis by first importing some modules I might need, and then importing the data as was done in milestone 1.\n"
   ]
  },
  {
   "cell_type": "code",
   "execution_count": 25,
   "metadata": {},
   "outputs": [
    {
     "name": "stdout",
     "output_type": "stream",
     "text": [
      "      age     sex     bmi  children smoker     region      charges\n",
      "0      19  female  27.900         0    yes  southwest  16884.92400\n",
      "1      18    male  33.770         1     no  southeast   1725.55230\n",
      "2      28    male  33.000         3     no  southeast   4449.46200\n",
      "3      33    male  22.705         0     no  northwest  21984.47061\n",
      "4      32    male  28.880         0     no  northwest   3866.85520\n",
      "...   ...     ...     ...       ...    ...        ...          ...\n",
      "1333   50    male  30.970         3     no  northwest  10600.54830\n",
      "1334   18  female  31.920         0     no  northeast   2205.98080\n",
      "1335   18  female  36.850         0     no  southeast   1629.83350\n",
      "1336   21  female  25.800         0     no  southwest   2007.94500\n",
      "1337   61  female  29.070         0    yes  northwest  29141.36030\n",
      "\n",
      "[1338 rows x 7 columns]\n"
     ]
    }
   ],
   "source": [
    "import pandas as pd\n",
    "import numpy as np\n",
    "import seaborn as sns\n",
    "\n",
    "df = pd.read_csv(\"../../data/raw/Medical_Cost.csv\")\n",
    "\n",
    "print(df)"
   ]
  },
  {
   "cell_type": "markdown",
   "metadata": {},
   "source": [
    "# Task 1: Method Chaining and Python Programs\n",
    "\n",
    "#### Looking at the code, it doesn't seem like a *lot* of data wrangling is going to be necessary. \n",
    "I will, however, remove any NaN values, (if needed) reset the index, (if needed) remove the new index column, and finally sort by age and then BMI ascending."
   ]
  },
  {
   "cell_type": "code",
   "execution_count": 26,
   "metadata": {},
   "outputs": [
    {
     "name": "stdout",
     "output_type": "stream",
     "text": [
      "      age     sex     bmi  children smoker     region      charges\n",
      "0      19  female  27.900         0    yes  southwest  16884.92400\n",
      "1      18    male  33.770         1     no  southeast   1725.55230\n",
      "2      28    male  33.000         3     no  southeast   4449.46200\n",
      "3      33    male  22.705         0     no  northwest  21984.47061\n",
      "4      32    male  28.880         0     no  northwest   3866.85520\n",
      "...   ...     ...     ...       ...    ...        ...          ...\n",
      "1333   50    male  30.970         3     no  northwest  10600.54830\n",
      "1334   18  female  31.920         0     no  northeast   2205.98080\n",
      "1335   18  female  36.850         0     no  southeast   1629.83350\n",
      "1336   21  female  25.800         0     no  southwest   2007.94500\n",
      "1337   61  female  29.070         0    yes  northwest  29141.36030\n",
      "\n",
      "[1338 rows x 7 columns]\n"
     ]
    }
   ],
   "source": [
    "df = df.dropna()\n",
    "print(df)"
   ]
  },
  {
   "cell_type": "code",
   "execution_count": 27,
   "metadata": {},
   "outputs": [
    {
     "name": "stdout",
     "output_type": "stream",
     "text": [
      "      age     sex     bmi  children smoker     region      charges\n",
      "0      19  female  27.900         0    yes  southwest  16884.92400\n",
      "1      18    male  33.770         1     no  southeast   1725.55230\n",
      "2      28    male  33.000         3     no  southeast   4449.46200\n",
      "3      33    male  22.705         0     no  northwest  21984.47061\n",
      "4      32    male  28.880         0     no  northwest   3866.85520\n",
      "...   ...     ...     ...       ...    ...        ...          ...\n",
      "1333   50    male  30.970         3     no  northwest  10600.54830\n",
      "1334   18  female  31.920         0     no  northeast   2205.98080\n",
      "1335   18  female  36.850         0     no  southeast   1629.83350\n",
      "1336   21  female  25.800         0     no  southwest   2007.94500\n",
      "1337   61  female  29.070         0    yes  northwest  29141.36030\n",
      "\n",
      "[1338 rows x 7 columns]\n"
     ]
    }
   ],
   "source": [
    "df.reset_index()\n",
    "print(df)"
   ]
  },
  {
   "cell_type": "markdown",
   "metadata": {},
   "source": [
    "#### This data set doesn't seem to contain any NaN values. \n",
    "I'm going to keep the dropna and reset_index commands in the following method chain however, in case of any updates to the data that may contain NaN values. Note that in this case one would have to add **.drop(columns=['index'])** to the method chain as well."
   ]
  },
  {
   "cell_type": "code",
   "execution_count": 28,
   "metadata": {},
   "outputs": [
    {
     "name": "stdout",
     "output_type": "stream",
     "text": [
      "      age     sex     bmi  children smoker     region      charges\n",
      "172    18    male  15.960         0     no  northeast   1694.79640\n",
      "250    18    male  17.290         2    yes  northeast  12829.45510\n",
      "359    18  female  20.790         0     no  southeast   1607.51010\n",
      "1212   18    male  21.470         0     no  northeast   1702.45530\n",
      "1033   18    male  21.565         0    yes  northeast  13747.87235\n",
      "...   ...     ...     ...       ...    ...        ...          ...\n",
      "603    64  female  39.050         3     no  southeast  16085.12750\n",
      "418    64    male  39.160         1     no  southeast  14418.28040\n",
      "199    64  female  39.330         0     no  northeast  14901.51670\n",
      "768    64  female  39.700         0     no  southwest  14319.03100\n",
      "534    64    male  40.480         0     no  southeast  13831.11520\n",
      "\n",
      "[1338 rows x 7 columns]\n"
     ]
    }
   ],
   "source": [
    "df = df.sort_values(by=['age', 'bmi'])\n",
    "print(df)"
   ]
  },
  {
   "cell_type": "markdown",
   "metadata": {},
   "source": [
    "#### I'm also going to create a new column called isParent which will be true for parents and false for non-parents.\n",
    "This way I can easily categorize parents and non-parents in future visualizations."
   ]
  },
  {
   "cell_type": "code",
   "execution_count": 29,
   "metadata": {},
   "outputs": [
    {
     "name": "stdout",
     "output_type": "stream",
     "text": [
      "      age     sex     bmi  children smoker     region      charges  isParent\n",
      "172    18    male  15.960         0     no  northeast   1694.79640     False\n",
      "250    18    male  17.290         2    yes  northeast  12829.45510      True\n",
      "359    18  female  20.790         0     no  southeast   1607.51010     False\n",
      "1212   18    male  21.470         0     no  northeast   1702.45530     False\n",
      "1033   18    male  21.565         0    yes  northeast  13747.87235     False\n",
      "...   ...     ...     ...       ...    ...        ...          ...       ...\n",
      "603    64  female  39.050         3     no  southeast  16085.12750      True\n",
      "418    64    male  39.160         1     no  southeast  14418.28040      True\n",
      "199    64  female  39.330         0     no  northeast  14901.51670     False\n",
      "768    64  female  39.700         0     no  southwest  14319.03100     False\n",
      "534    64    male  40.480         0     no  southeast  13831.11520     False\n",
      "\n",
      "[1338 rows x 8 columns]\n"
     ]
    }
   ],
   "source": [
    "df['isParent'] = (df.children != 0)\n",
    "print(df)"
   ]
  },
  {
   "cell_type": "markdown",
   "metadata": {},
   "source": [
    "#### I will now method chain all the above methods."
   ]
  },
  {
   "cell_type": "code",
   "execution_count": 30,
   "metadata": {},
   "outputs": [
    {
     "name": "stdout",
     "output_type": "stream",
     "text": [
      "      age     sex     bmi  children smoker     region      charges  isParent\n",
      "172    18    male  15.960         0     no  northeast   1694.79640     False\n",
      "250    18    male  17.290         2    yes  northeast  12829.45510      True\n",
      "359    18  female  20.790         0     no  southeast   1607.51010     False\n",
      "1212   18    male  21.470         0     no  northeast   1702.45530     False\n",
      "1033   18    male  21.565         0    yes  northeast  13747.87235     False\n",
      "...   ...     ...     ...       ...    ...        ...          ...       ...\n",
      "603    64  female  39.050         3     no  southeast  16085.12750      True\n",
      "418    64    male  39.160         1     no  southeast  14418.28040      True\n",
      "199    64  female  39.330         0     no  northeast  14901.51670     False\n",
      "768    64  female  39.700         0     no  southwest  14319.03100     False\n",
      "534    64    male  40.480         0     no  southeast  13831.11520     False\n",
      "\n",
      "[1338 rows x 8 columns]\n"
     ]
    }
   ],
   "source": [
    "df = pd.read_csv(\"../../data/raw/Medical_Cost.csv\").dropna().reset_index().drop(columns=['index']).sort_values(by=['age', 'bmi'])\n",
    "df['isParent'] = (df.children != 0)\n",
    "print(df)"
   ]
  },
  {
   "cell_type": "markdown",
   "metadata": {},
   "source": [
    "#### For some reason, running the above code would give me an index column, whereas running the methods seperately above would not. \n",
    "I have therefore added the appropriate method to the chain, **.drop(columns=['index'])**"
   ]
  },
  {
   "cell_type": "markdown",
   "metadata": {},
   "source": [
    "#### I will now create a function from the above method chain"
   ]
  },
  {
   "cell_type": "code",
   "execution_count": 36,
   "metadata": {},
   "outputs": [],
   "source": [
    "def load_and_process(url_or_path_to_csv_file):\n",
    "\n",
    "    # Method Chain 1 (Load data and deal with missing data)\n",
    "\n",
    "    df1 = (\n",
    "          pd.read_csv(url_or_path_to_csv_file).dropna().reset_index()\n",
    "      )\n",
    "\n",
    "    # Method Chain 2 (Create new columns, drop others, and do processing)\n",
    "\n",
    "    df2 = (\n",
    "          df1.drop(columns=['index']).sort_values(by=['age', 'bmi'])\n",
    "      )\n",
    "    \n",
    "    df2['isParent'] = (df.children != 0)\n",
    "    \n",
    "    return df2"
   ]
  },
  {
   "cell_type": "code",
   "execution_count": 87,
   "metadata": {},
   "outputs": [
    {
     "name": "stdout",
     "output_type": "stream",
     "text": [
      "      age     sex     bmi  children smoker     region      charges  isParent\n",
      "172    18    male  15.960         0     no  northeast   1694.79640     False\n",
      "250    18    male  17.290         2    yes  northeast  12829.45510      True\n",
      "359    18  female  20.790         0     no  southeast   1607.51010     False\n",
      "1212   18    male  21.470         0     no  northeast   1702.45530     False\n",
      "1033   18    male  21.565         0    yes  northeast  13747.87235     False\n",
      "...   ...     ...     ...       ...    ...        ...          ...       ...\n",
      "603    64  female  39.050         3     no  southeast  16085.12750      True\n",
      "418    64    male  39.160         1     no  southeast  14418.28040      True\n",
      "199    64  female  39.330         0     no  northeast  14901.51670     False\n",
      "768    64  female  39.700         0     no  southwest  14319.03100     False\n",
      "534    64    male  40.480         0     no  southeast  13831.11520     False\n",
      "\n",
      "[1338 rows x 8 columns]\n"
     ]
    }
   ],
   "source": [
    "df = load_and_process(\"../../data/raw/Medical_Cost.csv\")\n",
    "print(df)"
   ]
  },
  {
   "cell_type": "markdown",
   "metadata": {},
   "source": [
    "#### Finally, I will move this function into a seperate file and import it for use here, as described on the course website."
   ]
  },
  {
   "cell_type": "code",
   "execution_count": 91,
   "metadata": {},
   "outputs": [],
   "source": [
    "import sys, os\n",
    "sys.path.insert(0, os.path.abspath('..'))\n",
    "\n",
    "from .scripts import project_functions"
   ]
  },
  {
   "cell_type": "markdown",
   "metadata": {},
   "source": [
    "# Task 2: Exploratory data analysis\n",
    "---\n",
    "The first thing I am going to do for this exploratory data analysis is just going to be using the .describe method to make some simple observations about the data set"
   ]
  },
  {
   "cell_type": "code",
   "execution_count": 92,
   "metadata": {},
   "outputs": [
    {
     "name": "stdout",
     "output_type": "stream",
     "text": [
      "           count          mean           std        min         25%       50%  \\\n",
      "age       1338.0     39.207025     14.049960    18.0000    27.00000    39.000   \n",
      "bmi       1338.0     30.663397      6.098187    15.9600    26.29625    30.400   \n",
      "children  1338.0      1.094918      1.205493     0.0000     0.00000     1.000   \n",
      "charges   1338.0  13270.422265  12110.011237  1121.8739  4740.28715  9382.033   \n",
      "\n",
      "                   75%          max  \n",
      "age          51.000000     64.00000  \n",
      "bmi          34.693750     53.13000  \n",
      "children      2.000000      5.00000  \n",
      "charges   16639.912515  63770.42801  \n"
     ]
    }
   ],
   "source": [
    "# numerical columns\n",
    "\n",
    "print(df.describe().T)"
   ]
  },
  {
   "cell_type": "code",
   "execution_count": 93,
   "metadata": {},
   "outputs": [
    {
     "name": "stdout",
     "output_type": "stream",
     "text": [
      "         count unique        top  freq\n",
      "sex       1338      2       male   676\n",
      "smoker    1338      2         no  1064\n",
      "region    1338      4  southeast   364\n",
      "isParent  1338      2       True   764\n"
     ]
    }
   ],
   "source": [
    "# categorical columns\n",
    "\n",
    "print(df.describe(exclude=np.number).T)"
   ]
  },
  {
   "cell_type": "markdown",
   "metadata": {},
   "source": [
    "#### Some observations from these results:\n",
    "- The mean age is 39 years, with the youngest being 18 and the oldest being 64\n",
    "- Mean BMI is 30.66, which is quite high. I am told by my roommates, who are human kinetics students, that BMI is considered a flawed system of measurement, and that waist circumference measurements provide a more accurate BMI result. I do not know with what method the data was collected, but if it were to possible to determine whether it was gained via waist measurement or otherwise, we could have an improved understanding of the accuracy of the data.\n",
    "- The mean number of children is 1. \n",
    "- The charges have a large standard deviation, ranging from 1121.9 to 63770.4. The mean is 13270.4. \n",
    "- There are 14 more males than females in the data set.\n",
    "- ~80% of the individuals in the study do not smoke.\n",
    "- southeast region is the most represented in the study\n",
    "- Over half of those studied are parents"
   ]
  },
  {
   "cell_type": "markdown",
   "metadata": {},
   "source": [
    "#### Next, I am going to create some visualizations to understand the relationship between various elements and cost.\n",
    "First, I'll take a look at whether or not smokers tend to pay more on average for health care than non-smokers."
   ]
  },
  {
   "cell_type": "code",
   "execution_count": 94,
   "metadata": {},
   "outputs": [
    {
     "data": {
      "text/plain": [
       "<matplotlib.axes._subplots.AxesSubplot at 0x7fb974d09750>"
      ]
     },
     "execution_count": 94,
     "metadata": {},
     "output_type": "execute_result"
    },
    {
     "data": {
      "image/png": "[encoded data removed]",
      "text/plain": [
       "<Figure size 432x288 with 1 Axes>"
      ]
     },
     "metadata": {
      "needs_background": "light"
     },
     "output_type": "display_data"
    }
   ],
   "source": [
    "sns.barplot(y=df['charges'], x=df['smoker'],data=df)"
   ]
  },
  {
   "cell_type": "markdown",
   "metadata": {},
   "source": [
    "#### This visualization shows a large discrepancy in the amount paid by smokers v. non smokers.\n",
    "Charges for non smokers seem to be around 7000-8000 whereas for smokers the charges are ~32500. This is a huge difference, and it seems that smokers seem to have a disproportionate influence on the mean charges (which was ~13270) - rather than the data"
   ]
  }
 ],
 "metadata": {
  "kernelspec": {
   "display_name": "Python 3",
   "language": "python",
   "name": "python3"
  },
  "language_info": {
   "codemirror_mode": {
    "name": "ipython",
    "version": 3
   },
   "file_extension": ".py",
   "mimetype": "text/x-python",
   "name": "python",
   "nbconvert_exporter": "python",
   "pygments_lexer": "ipython3",
   "version": "3.7.4"
  }
 },
 "nbformat": 4,
 "nbformat_minor": 2
}
